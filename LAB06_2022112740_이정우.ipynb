{
 "cells": [
  {
   "cell_type": "code",
   "execution_count": 1,
   "id": "ec89a24c",
   "metadata": {},
   "outputs": [
    {
     "data": {
      "text/plain": [
       "'Washington DC'"
      ]
     },
     "execution_count": 1,
     "metadata": {},
     "output_type": "execute_result"
    }
   ],
   "source": [
    "capital_dic = {'Korea':'Seoul', 'China':'Beijing', 'USA':'Washington DC'}\n",
    "capital_dic['Korea']\n",
    "capital_dic['China']\n",
    "capital_dic['USA']"
   ]
  },
  {
   "cell_type": "code",
   "execution_count": 14,
   "id": "35d35a62",
   "metadata": {},
   "outputs": [
    {
     "name": "stdout",
     "output_type": "stream",
     "text": [
      "apple의 가격은 5000원 입니다.\n",
      "banana의 가격은 4000원 입니다.\n",
      "grape의 가격은 5300원 입니다.\n",
      "melon의 가격은 6500원 입니다.\n"
     ]
    }
   ],
   "source": [
    "fruits_dic = {'apple':5000, 'banana':4000, 'grape':5300, 'melon':6500}\n",
    "print('apple의 가격은 %d원 입니다.' % fruits_dic['apple'])\n",
    "print('banana의 가격은 %d원 입니다.' % fruits_dic['banana'])\n",
    "print('grape의 가격은 %d원 입니다.' % fruits_dic['grape'])\n",
    "print('melon의 가격은 %d원 입니다.' % fruits_dic['melon'])"
   ]
  },
  {
   "cell_type": "code",
   "execution_count": 16,
   "id": "f3448bbc",
   "metadata": {},
   "outputs": [
    {
     "data": {
      "text/plain": [
       "{'이름': '홍길동', '몸무게': 82, '특기': '분신술', '아버지': '홍판서'}"
      ]
     },
     "execution_count": 16,
     "metadata": {},
     "output_type": "execute_result"
    }
   ],
   "source": [
    "person = {'이름':'홍길동', '나이':26, '몸무게':82, '특기':'분신술'}\n",
    "\n",
    "person['아버지'] = '홍판서'\n",
    "person\n",
    "\n",
    "del person['나이']\n",
    "person"
   ]
  },
  {
   "cell_type": "code",
   "execution_count": 19,
   "id": "8320975d",
   "metadata": {},
   "outputs": [
    {
     "data": {
      "text/plain": [
       "False"
      ]
     },
     "execution_count": 19,
     "metadata": {},
     "output_type": "execute_result"
    }
   ],
   "source": [
    "capital_dic = {'Korea':'Seoul', 'China':'Beijing', 'USA':'Washington DC'}\n",
    "'Korea' in capital_dic\n",
    "\n",
    "'China' in capital_dic\n",
    "\n",
    "'Indonesia' in capital_dic\n",
    "\n",
    "'Beijing' in capital_dic\n"
   ]
  },
  {
   "cell_type": "code",
   "execution_count": 7,
   "id": "67611edc",
   "metadata": {},
   "outputs": [
    {
     "data": {
      "text/plain": [
       "dict_keys(['apple', 'melon', 'banana', 'orange'])"
      ]
     },
     "execution_count": 7,
     "metadata": {},
     "output_type": "execute_result"
    }
   ],
   "source": [
    "fruits_dic = {'apple':6000, 'melon':3000, 'banana':5000, 'orange':7000}\n",
    "fruits_dic.keys()\n",
    "\n",
    "fruits_dic.values()\n",
    "\n",
    "fruits_dic.pop('apple')\n",
    "fruits_dic\n",
    "\n",
    "fruits_dic.clear()\n",
    "fruits_dic"
   ]
  },
  {
   "cell_type": "code",
   "execution_count": null,
   "id": "2ba82ef9",
   "metadata": {},
   "outputs": [],
   "source": [
    "fruits_dic = {'apple':6000, 'melon':3000, 'banana':5000, 'orange':7000}\n",
    "\n",
    "list = list(fruits_dic.keys())\n",
    "print(list)\n",
    "\n",
    "list_1 = list(fruits_dic.values())\n",
    "print(list_1)\n",
    "\n",
    "print('fruits_dic 딕셔너리의 항목의 개수 : ', len(fruits_dic))\n",
    "\n",
    "if 'apple' in fruits_dic:\n",
    "    print('apple is in fruits_dic')\n",
    "else:\n",
    "    print('apple is not in fruits_dic')\n",
    "    \n",
    "if 'mango' in fruits_dic:\n",
    "    print('mango is in fruits_dic')\n",
    "else:\n",
    "    print('mango is not in fruits_dic')"
   ]
  },
  {
   "cell_type": "code",
   "execution_count": 21,
   "id": "6589b72d",
   "metadata": {},
   "outputs": [
    {
     "name": "stdout",
     "output_type": "stream",
     "text": [
      "1919년 3월 1일은 삼일절입니다.\n"
     ]
    }
   ],
   "source": [
    "the_day = (1919, 3, 1)\n",
    "year, month, day = the_day\n",
    "print('{}년 {}월 {}일은 삼일절입니다.'.format(year, month, day))"
   ]
  },
  {
   "cell_type": "code",
   "execution_count": 22,
   "id": "817d8ac8",
   "metadata": {},
   "outputs": [
    {
     "name": "stdout",
     "output_type": "stream",
     "text": [
      "a =  30\n",
      "b =  20\n",
      "c =  10\n"
     ]
    }
   ],
   "source": [
    "tuple = (10 , 20, 30)\n",
    "c, b, a = tuple\n",
    "print('a = ', a)\n",
    "print('b = ', b)\n",
    "print('c = ', c)"
   ]
  },
  {
   "cell_type": "code",
   "execution_count": 23,
   "id": "9382a21d",
   "metadata": {},
   "outputs": [
    {
     "ename": "TypeError",
     "evalue": "'tuple' object does not support item assignment",
     "output_type": "error",
     "traceback": [
      "\u001b[1;31m---------------------------------------------------------------------------\u001b[0m",
      "\u001b[1;31mTypeError\u001b[0m                                 Traceback (most recent call last)",
      "Input \u001b[1;32mIn [23]\u001b[0m, in \u001b[0;36m<cell line: 2>\u001b[1;34m()\u001b[0m\n\u001b[0;32m      1\u001b[0m person \u001b[38;5;241m=\u001b[39m (\u001b[38;5;124m'\u001b[39m\u001b[38;5;124m홍길동\u001b[39m\u001b[38;5;124m'\u001b[39m, \u001b[38;5;241m2019001\u001b[39m, \u001b[38;5;241m179\u001b[39m)\n\u001b[1;32m----> 2\u001b[0m person[\u001b[38;5;241m1\u001b[39m] \u001b[38;5;241m=\u001b[39m \u001b[38;5;241m2019003\u001b[39m\n",
      "\u001b[1;31mTypeError\u001b[0m: 'tuple' object does not support item assignment"
     ]
    }
   ],
   "source": [
    "person = ('홍길동', 2019001, 179)\n",
    "person[1] = 2019003"
   ]
  },
  {
   "cell_type": "code",
   "execution_count": null,
   "id": "e0851838",
   "metadata": {},
   "outputs": [],
   "source": [
    "person = ('홍길동', 2019001, 179)\n",
    "list = list(person)\n",
    "list[1] = 2020003\n",
    "person_1 = tuple(list)\n",
    "print('학번 변동 후 person = ', person_1)"
   ]
  },
  {
   "cell_type": "code",
   "execution_count": 28,
   "id": "33c1be07",
   "metadata": {},
   "outputs": [
    {
     "name": "stdout",
     "output_type": "stream",
     "text": [
      "s1 =  {'mango', 'banana', 'apple'}\n",
      "s2 =  {'r', 'd', 'f', 'e', 'n', ' ', 'a', 't', 'G', 'o'}\n"
     ]
    }
   ],
   "source": [
    "lst = ['apple', 'mango', 'banana']\n",
    "s1 = set(lst)\n",
    "print('s1 = ',s1)\n",
    "\n",
    "greet = 'Good afternoon'\n",
    "s2 = set(greet)\n",
    "print('s2 = ',s2)"
   ]
  },
  {
   "cell_type": "code",
   "execution_count": 30,
   "id": "676249d4",
   "metadata": {},
   "outputs": [
    {
     "name": "stdout",
     "output_type": "stream",
     "text": [
      "{70, 40, 10, 50, 20, 60, 30}\n",
      "{40, 30}\n",
      "{10, 20}\n",
      "{50, 20, 70, 10, 60}\n",
      "False\n",
      "False\n",
      "False\n"
     ]
    }
   ],
   "source": [
    "s1 = {10, 20, 30, 40}\n",
    "s2 = {30, 40, 50, 60, 70}\n",
    "print(s1 | s2)\n",
    "print(s1 & s2)\n",
    "print(s1 - s2)\n",
    "print(s1 ^ s2)\n",
    "print(s1.issubset(s2))\n",
    "print(s1.issuperset(s2))\n",
    "print(s1.isdisjoint(s2))"
   ]
  }
 ],
 "metadata": {
  "kernelspec": {
   "display_name": "Python 3 (ipykernel)",
   "language": "python",
   "name": "python3"
  },
  "language_info": {
   "codemirror_mode": {
    "name": "ipython",
    "version": 3
   },
   "file_extension": ".py",
   "mimetype": "text/x-python",
   "name": "python",
   "nbconvert_exporter": "python",
   "pygments_lexer": "ipython3",
   "version": "3.9.12"
  }
 },
 "nbformat": 4,
 "nbformat_minor": 5
}
