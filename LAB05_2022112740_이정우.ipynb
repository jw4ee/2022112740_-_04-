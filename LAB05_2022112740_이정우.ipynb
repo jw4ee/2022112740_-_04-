{
 "cells": [
  {
   "cell_type": "code",
   "execution_count": 5,
   "id": "c72eff9b",
   "metadata": {},
   "outputs": [
    {
     "name": "stdout",
     "output_type": "stream",
     "text": [
      "even_list =  [2, 4, 6, 8, 10]\n"
     ]
    }
   ],
   "source": [
    "even_list = list((2, 4, 6, 8, 10))\n",
    "print('even_list = ', even_list)"
   ]
  },
  {
   "cell_type": "code",
   "execution_count": 75,
   "id": "5f404231",
   "metadata": {},
   "outputs": [
    {
     "ename": "TypeError",
     "evalue": "'list' object is not callable",
     "output_type": "error",
     "traceback": [
      "\u001b[1;31m---------------------------------------------------------------------------\u001b[0m",
      "\u001b[1;31mTypeError\u001b[0m                                 Traceback (most recent call last)",
      "Input \u001b[1;32mIn [75]\u001b[0m, in \u001b[0;36m<cell line: 1>\u001b[1;34m()\u001b[0m\n\u001b[1;32m----> 1\u001b[0m even_list \u001b[38;5;241m=\u001b[39m \u001b[38;5;28;43mlist\u001b[39;49m\u001b[43m(\u001b[49m\u001b[38;5;28;43mrange\u001b[39;49m\u001b[43m(\u001b[49m\u001b[38;5;241;43m2\u001b[39;49m\u001b[43m,\u001b[49m\u001b[43m \u001b[49m\u001b[38;5;241;43m11\u001b[39;49m\u001b[43m,\u001b[49m\u001b[43m \u001b[49m\u001b[38;5;241;43m2\u001b[39;49m\u001b[43m)\u001b[49m\u001b[43m)\u001b[49m\n\u001b[0;32m      2\u001b[0m \u001b[38;5;28mprint\u001b[39m(\u001b[38;5;124m'\u001b[39m\u001b[38;5;124meven_list = \u001b[39m\u001b[38;5;124m'\u001b[39m, even_list)\n",
      "\u001b[1;31mTypeError\u001b[0m: 'list' object is not callable"
     ]
    }
   ],
   "source": [
    "even_list = list(range(2, 11, 2))\n",
    "print('even_list = ', even_list)"
   ]
  },
  {
   "cell_type": "code",
   "execution_count": 11,
   "id": "10c7ffef",
   "metadata": {},
   "outputs": [
    {
     "name": "stdout",
     "output_type": "stream",
     "text": [
      "nations =  ['korea', 'China', 'India', 'Nepal']\n"
     ]
    }
   ],
   "source": [
    "nations = list(('Korea', 'China', 'India', 'Nepal'))\n",
    "print('nations = ', nations)"
   ]
  },
  {
   "cell_type": "code",
   "execution_count": 12,
   "id": "379f7a05",
   "metadata": {},
   "outputs": [
    {
     "name": "stdout",
     "output_type": "stream",
     "text": [
      "friends =  ['길동', '철수', '은지', '지은', '영미']\n"
     ]
    }
   ],
   "source": [
    "friends = list(('길동', '철수', '은지', '지은', '영미'))\n",
    "print('friends = ', friends)"
   ]
  },
  {
   "cell_type": "code",
   "execution_count": 23,
   "id": "9772121d",
   "metadata": {},
   "outputs": [
    {
     "name": "stdout",
     "output_type": "stream",
     "text": [
      "==================================================\n",
      "My program\n",
      "==================================================\n"
     ]
    }
   ],
   "source": [
    "string = list('XYZ')\n",
    "print('string = ', string)"
   ]
  },
  {
   "cell_type": "code",
   "execution_count": 30,
   "id": "40e149da",
   "metadata": {},
   "outputs": [
    {
     "name": "stdout",
     "output_type": "stream",
     "text": [
      "prime_list의 첫 원소 :  2\n",
      "prime_list의 마지막 원소 :  7\n",
      "prime_list의 마지막 원소 :  7\n",
      "nations의 첫 원소 :  korea\n",
      "nations의 마지막 원소 :  Malaysia\n",
      "nations의 마지막 원소 :  Malaysia\n"
     ]
    }
   ],
   "source": [
    "prime_list = [2, 3, 5, 7]\n",
    "print('prime_list의 첫 원소 : ', prime_list[0])\n",
    "print('prime_list의 마지막 원소 : ', prime_list[3])\n",
    "print('prime_list의 마지막 원소 : ', prime_list[-1])\n",
    "\n",
    "nations = list(('korea', 'China', 'Russia', 'Malaysia'))\n",
    "print('nations의 첫 원소 : ', nations[0])\n",
    "print('nations의 마지막 원소 : ', nations[3])\n",
    "print('nations의 마지막 원소 : ', nations[len(nations) - 1])\n",
    "\n"
   ]
  },
  {
   "cell_type": "code",
   "execution_count": 37,
   "id": "e3e39001",
   "metadata": {},
   "outputs": [
    {
     "name": "stdout",
     "output_type": "stream",
     "text": [
      "소수 목록 :  [2, 3, 5, 7]\n",
      "추가 후 소수 목록 :  [2, 3, 5, 7, 11]\n",
      "삭제 전 소수 목록 :  [2, 3, 5, 7, 11]\n",
      "삭제 후 소수 목록 :  [2, 5, 7, 11]\n",
      "국가 목록 :  ['korea', 'China', 'Russia', 'Malaysia']\n",
      "추가 후 국가 목록 :  ['korea', 'China', 'Russia', 'Malaysia', 'Nepal']\n",
      "Japan는(은) 국가 목록에 없습니다. \n",
      "Russia는(은) 국가 목록에 있습니다. \n"
     ]
    }
   ],
   "source": [
    "prime_list = [2, 3, 5, 7]\n",
    "print('소수 목록 : ', prime_list)\n",
    "prime_list.append(11)\n",
    "print('추가 후 소수 목록 : ', prime_list)\n",
    "\n",
    "print('삭제 전 소수 목록 : ', prime_list)\n",
    "prime_list.remove(3)\n",
    "print('삭제 후 소수 목록 : ', prime_list)\n",
    "\n",
    "nations = list(('Korea', 'China', 'Russia', 'Malaysia'))\n",
    "print('국가 목록 : ', nations)\n",
    "nations.append('Nepal')\n",
    "print('추가 후 국가 목록 : ', nations)\n",
    "\n",
    "if ('Japan' in nations):\n",
    "    print('Japan는(은) 국가 목록에 있습니다. ')\n",
    "else:\n",
    "        print('Japan는(은) 국가 목록에 없습니다. ')\n",
    "if ('Russia' in nations):\n",
    "    print('Russia는(은) 국가 목록에 있습니다. ')\n",
    "else:\n",
    "        print('Russia는(은) 국가 목록에 없습니다. ')\n"
   ]
  },
  {
   "cell_type": "code",
   "execution_count": 50,
   "id": "ddadbeb0",
   "metadata": {},
   "outputs": [
    {
     "name": "stdout",
     "output_type": "stream",
     "text": [
      "1에서 10까지의 소수 :  [2, 3, 5, 7]\n",
      "최솟값 :  2\n",
      "최댓값 :  7\n",
      "합계 :  17\n",
      "평균 :  4.25\n",
      "국가 목록 :  ['Korea', 'China', 'Russia', 'Malaysia']\n",
      "사전에 가장 먼저 나오는 나라 :  China\n",
      "사전에 가장 뒤에 나오는 나라 :  Russia\n"
     ]
    }
   ],
   "source": [
    "prime_list = [2, 3, 5, 7]\n",
    "print('1에서 10까지의 소수 : ', prime_list)\n",
    "print('최솟값 : ', min(prime_list))\n",
    "print('최댓값 : ', max(prime_list))\n",
    "print('합계 : ', sum(prime_list))\n",
    "print('평균 : ', sum(prime_list) / len(prime_list))\n",
    "\n",
    "nations = list(('Korea', 'China', 'Russia', 'Malaysia'))\n",
    "print('국가 목록 : ', nations)\n",
    "print('사전에 가장 먼저 나오는 나라 : ', min(nations))\n",
    "print('사전에 가장 뒤에 나오는 나라 : ', max(nations))\n",
    "\n"
   ]
  },
  {
   "cell_type": "code",
   "execution_count": 51,
   "id": "6e0885e1",
   "metadata": {},
   "outputs": [
    {
     "data": {
      "text/plain": [
       "[1, 2, 3, [10, 20, 30]]"
      ]
     },
     "execution_count": 51,
     "metadata": {},
     "output_type": "execute_result"
    }
   ],
   "source": [
    "a = [1, 2, 3]\n",
    "b = [10, 20, 30]\n",
    "a.append(b)\n",
    "a"
   ]
  },
  {
   "cell_type": "code",
   "execution_count": 52,
   "id": "9c9af151",
   "metadata": {},
   "outputs": [
    {
     "data": {
      "text/plain": [
       "[1, 2, 3, 10, 20, 30]"
      ]
     },
     "execution_count": 52,
     "metadata": {},
     "output_type": "execute_result"
    }
   ],
   "source": [
    "a = [1, 2, 3]\n",
    "b = [10, 20, 30]\n",
    "a.extend(b)\n",
    "a"
   ]
  },
  {
   "cell_type": "code",
   "execution_count": 74,
   "id": "2b7931b7",
   "metadata": {},
   "outputs": [
    {
     "ename": "TypeError",
     "evalue": "'list' object is not callable",
     "output_type": "error",
     "traceback": [
      "\u001b[1;31m---------------------------------------------------------------------------\u001b[0m",
      "\u001b[1;31mTypeError\u001b[0m                                 Traceback (most recent call last)",
      "Input \u001b[1;32mIn [74]\u001b[0m, in \u001b[0;36m<cell line: 1>\u001b[1;34m()\u001b[0m\n\u001b[1;32m----> 1\u001b[0m nlist \u001b[38;5;241m=\u001b[39m \u001b[38;5;28;43mlist\u001b[39;49m\u001b[43m(\u001b[49m\u001b[38;5;28;43mrange\u001b[39;49m\u001b[43m(\u001b[49m\u001b[38;5;241;43m1\u001b[39;49m\u001b[43m,\u001b[49m\u001b[43m \u001b[49m\u001b[38;5;241;43m11\u001b[39;49m\u001b[43m)\u001b[49m\u001b[43m)\u001b[49m\n\u001b[0;32m      2\u001b[0m \u001b[38;5;28mprint\u001b[39m(\u001b[38;5;124m'\u001b[39m\u001b[38;5;124mnlist = \u001b[39m\u001b[38;5;124m'\u001b[39m, nlist)\n\u001b[0;32m      4\u001b[0m nlist\u001b[38;5;241m.\u001b[39minsert(\u001b[38;5;241m0\u001b[39m, \u001b[38;5;241m0\u001b[39m)\n",
      "\u001b[1;31mTypeError\u001b[0m: 'list' object is not callable"
     ]
    }
   ],
   "source": [
    "nlist = list(range(1, 11))\n",
    "print('nlist = ', nlist)\n",
    "\n",
    "nlist.insert(0, 0)\n",
    "print('nlist = ', nlist)\n",
    "\n",
    "nlist.reverse()\n",
    "print('nlist = ', nlist)\n",
    "\n",
    "print('마지막 원소 = ', nlist.pop())\n",
    "print('nlist = ', nlist)\n",
    "\n"
   ]
  },
  {
   "cell_type": "code",
   "execution_count": 70,
   "id": "39012716",
   "metadata": {},
   "outputs": [
    {
     "name": "stdout",
     "output_type": "stream",
     "text": [
      "반복할 정수를 입력하시오 : 3\n",
      "[1, 2, 3, 1, 2, 3, 1, 2, 3]\n"
     ]
    }
   ],
   "source": [
    "list = [1, 2, 3]\n",
    "n = int(input('반복할 정수를 입력하시오 : '))\n",
    "print(list * n)"
   ]
  },
  {
   "cell_type": "code",
   "execution_count": 87,
   "id": "70f38d1c",
   "metadata": {},
   "outputs": [
    {
     "ename": "TypeError",
     "evalue": "'list' object is not callable",
     "output_type": "error",
     "traceback": [
      "\u001b[1;31m---------------------------------------------------------------------------\u001b[0m",
      "\u001b[1;31mTypeError\u001b[0m                                 Traceback (most recent call last)",
      "Input \u001b[1;32mIn [87]\u001b[0m, in \u001b[0;36m<cell line: 1>\u001b[1;34m()\u001b[0m\n\u001b[1;32m----> 1\u001b[0m n_list \u001b[38;5;241m=\u001b[39m \u001b[38;5;28;43mlist\u001b[39;49m\u001b[43m(\u001b[49m\u001b[38;5;28;43mrange\u001b[39;49m\u001b[43m(\u001b[49m\u001b[38;5;241;43m15\u001b[39;49m\u001b[43m)\u001b[49m\u001b[43m)\u001b[49m\n\u001b[0;32m      2\u001b[0m \u001b[38;5;28mprint\u001b[39m(\u001b[38;5;124m'\u001b[39m\u001b[38;5;124mn_list = \u001b[39m\u001b[38;5;124m'\u001b[39m, n_list)\n\u001b[0;32m      4\u001b[0m s_list1 \u001b[38;5;241m=\u001b[39m n_list[:\u001b[38;5;241m5\u001b[39m]\n",
      "\u001b[1;31mTypeError\u001b[0m: 'list' object is not callable"
     ]
    }
   ],
   "source": [
    "n_list = list(range(15))\n",
    "print('n_list = ', n_list)\n",
    "\n",
    "s_list1 = n_list[:5]\n",
    "print('s_list1 = ', s_list1)\n",
    "\n",
    "s_list2 = n_list[5:11]\n",
    "print('s_list2 = ', s_list2)\n",
    "\n",
    "s_list3 = n_list[11:]\n",
    "print('s_list3 = ', s_list3)\n",
    "\n",
    "s_list4 = n_list[2:11:2]\n",
    "print('s_list4 = ', s_list4)\n",
    "\n",
    "s_list5 = n_list[10:5:-1]\n",
    "print('s_list5 = ', s_list5)\n",
    "\n",
    "s_list6 = n_list[10:1:-2]\n",
    "print('s_list6 = ', s_list6)\n"
   ]
  }
 ],
 "metadata": {
  "kernelspec": {
   "display_name": "Python 3 (ipykernel)",
   "language": "python",
   "name": "python3"
  },
  "language_info": {
   "codemirror_mode": {
    "name": "ipython",
    "version": 3
   },
   "file_extension": ".py",
   "mimetype": "text/x-python",
   "name": "python",
   "nbconvert_exporter": "python",
   "pygments_lexer": "ipython3",
   "version": "3.9.12"
  }
 },
 "nbformat": 4,
 "nbformat_minor": 5
}
